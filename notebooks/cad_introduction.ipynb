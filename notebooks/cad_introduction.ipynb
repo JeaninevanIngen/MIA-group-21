{
 "cells": [
  {
   "cell_type": "markdown",
   "metadata": {},
   "source": [
    "# Exercises: Computer-aided diagnosis\n",
    "\n",
    "In this set of exercises you will implement linear regression and logistic regression methods, apply them to \"toy\" datasets and then evaluate and analyze the results. As with the other sets of exercises, the goal is to help you better study and understand the material and lay down the ground work for the corresponding mini-project. You should not wait to complete all exercises before moving to work on the project. For example, after completing the exercises on linear regression, you can already start with the linear regression experiments required for the project work. \n",
    "\n",
    "Some quick remarks on the notation used in this mini-project: Vectors and matrices are represented by a bold typeface, matrices with uppercase and vectors with lowercase letters, e.g. the matrix **X**, the vector **w** etc. Compare this with the notation for scalars: $X$, $w$. Python function names, commands, files and variables are represented in a monospace font, e.g. `X`, `w`, `imshow(I);`, `some_python_function()`, `some_file.py` etc. "
   ]
  }
 ],
 "metadata": {
  "kernelspec": {
   "display_name": "Python 3",
   "language": "python",
   "name": "python3"
  },
  "language_info": {
   "codemirror_mode": {
    "name": "ipython",
    "version": 3
   },
   "file_extension": ".py",
   "mimetype": "text/x-python",
   "name": "python",
   "nbconvert_exporter": "python",
   "pygments_lexer": "ipython3",
   "version": "3.7.3"
  }
 },
 "nbformat": 4,
 "nbformat_minor": 4
}
